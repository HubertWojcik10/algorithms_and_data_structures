{
 "cells": [
  {
   "cell_type": "code",
   "execution_count": 7,
   "metadata": {},
   "outputs": [],
   "source": [
    "from dataclasses import dataclass        "
   ]
  },
  {
   "cell_type": "markdown",
   "metadata": {},
   "source": [
    "# Fire in the world - my solution\n",
    "This is an exam exercise from 20 May 2019. \n",
    "\n",
    "### The exercise:\n",
    "The world consists of R rows and C columns of six-sided tiles. A tile is either F (forest), G (grass), B (burning), S (smouldering2), W (water), or H (house). Time proceeds in discrete steps. Fire spreads using the following rules: Grass tiles next to a burning tile become smouldering in one step. A smouldering tile becomes burning in one step. Forest and house tiles next to a burning tile become burning in one step. Water tiles never change."
   ]
  },
  {
   "cell_type": "markdown",
   "metadata": {},
   "source": [
    "## A)\n",
    "\n",
    "Assume R = 1. Give a detailed description, preferably using pseudocode, of an algorithm that computes the time t when the H-tile catches fire. You can assume that the input is given as a sequence T[0], . . . , T[C − 1] of characters from HGFBW; for instance T[1] = G in the above example. There is a single H and a single B. State the running time in terms of R and C."
   ]
  },
  {
   "cell_type": "code",
   "execution_count": 8,
   "metadata": {},
   "outputs": [],
   "source": [
    "@dataclass\n",
    "class FireInTheWorld:\n",
    "    _T: list[str]\n",
    "\n",
    "    def __post_init__(self):\n",
    "        self.start_fire()\n",
    "\n",
    "    def _raise_level(self, tile, i):\n",
    "        '''raise the level of a given tile'''\n",
    "        if tile == 'H':\n",
    "            self._T[i] = 'B'\n",
    "        elif tile == 'F':\n",
    "            self._T[i] = 'B'\n",
    "        elif tile == 'G':\n",
    "            self._T[i] = 'S'\n",
    "        elif tile == 'S':\n",
    "            self._T[i] = 'B'\n",
    "\n",
    "    def start_fire(self):\n",
    "        '''the main function, which initiates the fire'''\n",
    "        c = 0\n",
    "        index_of_home = self._T.index('H')\n",
    "\n",
    "        while self._T[index_of_home] != 'B':\n",
    "            c += 1\n",
    "            print(f'{c} iteration, T: {self._T}')\n",
    "\n",
    "            for (i, tile) in enumerate(self._T):\n",
    "                if tile != 'B':\n",
    "                    if i == 0: \n",
    "                        next_tile = self._T[i+1]\n",
    "                        if next_tile == 'B':\n",
    "                            self._raise_level(tile, i)\n",
    "\n",
    "                    if i == len(self._T)-1:\n",
    "                        prev_tile = self._T[i-1]\n",
    "                        if prev_tile == 'B':\n",
    "                            self._raise_level(tile, i)\n",
    "\n",
    "                    else: \n",
    "                        prev_tile = self._T[i-1]\n",
    "                        next_tile = self._T[i+1]\n",
    "                        if prev_tile == 'B' or next_tile == 'B':\n",
    "                            self._raise_level(tile, i)  \n",
    "        \n",
    "        print(f'\\n House caught fire after {c} iterations')\n",
    "\n",
    "    \n",
    "\n"
   ]
  },
  {
   "cell_type": "code",
   "execution_count": 9,
   "metadata": {},
   "outputs": [
    {
     "name": "stdout",
     "output_type": "stream",
     "text": [
      "1 iteration, T: ['H', 'G', 'G', 'F', 'B', 'F', 'W', 'F']\n",
      "2 iteration, T: ['H', 'G', 'G', 'B', 'B', 'B', 'W', 'F']\n",
      "3 iteration, T: ['H', 'G', 'S', 'B', 'B', 'B', 'W', 'F']\n",
      "4 iteration, T: ['H', 'G', 'B', 'B', 'B', 'B', 'W', 'F']\n",
      "5 iteration, T: ['H', 'S', 'B', 'B', 'B', 'B', 'W', 'F']\n",
      "6 iteration, T: ['H', 'B', 'B', 'B', 'B', 'B', 'W', 'F']\n",
      "\n",
      " House caught fire after 6 iterations\n"
     ]
    }
   ],
   "source": [
    "fintw = FireInTheWorld(['H', 'G', 'G', 'F', 'B', 'F', 'W', 'F'])"
   ]
  },
  {
   "cell_type": "code",
   "execution_count": null,
   "metadata": {},
   "outputs": [],
   "source": []
  }
 ],
 "metadata": {
  "interpreter": {
   "hash": "ef166213a119dea7a0b1a64e774e94a94a893f8530fa4c669d6e23575311d886"
  },
  "kernelspec": {
   "display_name": "Python 3.9.7 ('base')",
   "language": "python",
   "name": "python3"
  },
  "language_info": {
   "codemirror_mode": {
    "name": "ipython",
    "version": 3
   },
   "file_extension": ".py",
   "mimetype": "text/x-python",
   "name": "python",
   "nbconvert_exporter": "python",
   "pygments_lexer": "ipython3",
   "version": "3.9.7"
  },
  "orig_nbformat": 4
 },
 "nbformat": 4,
 "nbformat_minor": 2
}
