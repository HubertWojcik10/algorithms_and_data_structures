{
 "cells": [
  {
   "cell_type": "code",
   "execution_count": 120,
   "metadata": {},
   "outputs": [],
   "source": [
    "from dataclasses import dataclass        "
   ]
  },
  {
   "cell_type": "markdown",
   "metadata": {},
   "source": [
    "# Fire in the world - my solution\n",
    "This is an exam exercise from 20 May 2019. \n",
    "\n",
    "### The exercise:\n",
    "The world consists of R rows and C columns of six-sided tiles. A tile is either F (forest), G (grass), B (burning), S (smouldering2), W (water), or H (house). Time proceeds in discrete steps. Fire spreads using the following rules: Grass tiles next to a burning tile become smouldering in one step. A smouldering tile becomes burning in one step. Forest and house tiles next to a burning tile become burning in one step. Water tiles never change."
   ]
  },
  {
   "cell_type": "markdown",
   "metadata": {},
   "source": [
    "## A)\n",
    "\n",
    "Assume R = 1. Give a detailed description, preferably using pseudocode, of an algorithm that computes the time t when the H-tile catches fire. You can assume that the input is given as a sequence T[0], . . . , T[C − 1] of characters from HGFBW; for instance T[1] = G in the above example. There is a single H and a single B. State the running time in terms of R and C."
   ]
  },
  {
   "cell_type": "code",
   "execution_count": 121,
   "metadata": {},
   "outputs": [],
   "source": [
    "@dataclass\n",
    "class FireInTheWorld:\n",
    "    _T: list[str]\n",
    "\n",
    "    def __post_init__(self):\n",
    "        self.start_fire()\n",
    "\n",
    "    def _raise_level(self, tile, i):\n",
    "        '''raise the level of a given tile'''\n",
    "        if tile == 'H':\n",
    "            self._T[i] = 'B'\n",
    "        elif tile == 'F':\n",
    "            self._T[i] = 'B'\n",
    "        elif tile == 'G':\n",
    "            self._T[i] = 'S'\n",
    "        elif tile == 'S':\n",
    "            self._T[i] = 'B'\n",
    "\n",
    "    def start_fire(self):\n",
    "        '''the main function, which initiates the fire'''\n",
    "        c = 0\n",
    "        index_of_home = self._T.index('H')\n",
    "\n",
    "        while self._T[index_of_home] != 'B':\n",
    "            c += 1\n",
    "            print(f'{c} iteration, T: {self._T}')\n",
    "\n",
    "            for (i, tile) in enumerate(self._T):\n",
    "                if tile != 'B':\n",
    "                    if i == 0: \n",
    "                        next_tile = self._T[i+1]\n",
    "                        if next_tile == 'B':\n",
    "                            self._raise_level(tile, i)\n",
    "\n",
    "                    if i == len(self._T)-1:\n",
    "                        prev_tile = self._T[i-1]\n",
    "                        if prev_tile == 'B':\n",
    "                            self._raise_level(tile, i)\n",
    "\n",
    "                    else: \n",
    "                        prev_tile = self._T[i-1]\n",
    "                        next_tile = self._T[i+1]\n",
    "                        if prev_tile == 'B' or next_tile == 'B':\n",
    "                            self._raise_level(tile, i)  \n",
    "        \n",
    "        print(f'\\n House caught fire after {c} iterations')\n",
    "\n",
    "    \n",
    "\n"
   ]
  },
  {
   "cell_type": "code",
   "execution_count": 122,
   "metadata": {},
   "outputs": [
    {
     "name": "stdout",
     "output_type": "stream",
     "text": [
      "1 iteration, T: ['H', 'G', 'G', 'F', 'B', 'F', 'W', 'F']\n",
      "2 iteration, T: ['H', 'G', 'G', 'B', 'B', 'B', 'W', 'F']\n",
      "3 iteration, T: ['H', 'G', 'S', 'B', 'B', 'B', 'W', 'F']\n",
      "4 iteration, T: ['H', 'G', 'B', 'B', 'B', 'B', 'W', 'F']\n",
      "5 iteration, T: ['H', 'S', 'B', 'B', 'B', 'B', 'W', 'F']\n",
      "6 iteration, T: ['H', 'B', 'B', 'B', 'B', 'B', 'W', 'F']\n",
      "\n",
      " House caught fire after 6 iterations\n"
     ]
    }
   ],
   "source": [
    "fintw = FireInTheWorld(['H', 'G', 'G', 'F', 'B', 'F', 'W', 'F'])"
   ]
  },
  {
   "cell_type": "markdown",
   "metadata": {},
   "source": [
    "## B)\n",
    "\n",
    "Now we no longer assume R = 1.) Describe an algorithm that computes the time t when the H-tile catches fire. For instance, the input could look like this (image below):\n",
    "You can assume that the input is given as a two-dimensional array T[r][c] of characters from HGFBW; with 0 ≤ r < R and 0 ≤ c < C. Let’s agree that T[1][0] is the south-east neighbour of T[0][0]. In the above example, T[1][2] = W. There is a single H and a single B. You should model the problem as a graph problem. Your explanation must include a careful and complete drawing of the graph corresponding to the above example input. It must be clear if the graph is undirected or directed, and which weights (if any) are on the edges. In general, how many vertices and how many edges does the graph have in terms of R and C? State the running time of your algorithm in terms of R and C.\n",
    "\n",
    "![example picture](bads190520.png)\n",
    "\n",
    "\n"
   ]
  },
  {
   "cell_type": "code",
   "execution_count": 139,
   "metadata": {},
   "outputs": [],
   "source": [
    "class Graph:\n",
    "    def __init__(self, N):\n",
    "        self.N = N\n",
    "        self.adj = [[] for _ in range(N)]\n",
    "        self.nodes = ['' for i in range(N)]\n",
    "\n",
    "    def add_edge(self, v, w):\n",
    "        self.adj[v].append(w)\n",
    "        self.adj[w].append(v)\n",
    "\n",
    "    def add_value(self, v, value):\n",
    "        self.nodes[v] = value\n",
    "\n",
    "    def update_value(self, tile, i):\n",
    "        if tile == 'B': return\n",
    "        if tile == 'H':\n",
    "            self.nodes[i] = 'B'\n",
    "            print(f'{tile} from {i} is now {self.nodes[i]}')\n",
    "        elif tile == 'F':\n",
    "            self.nodes[i] = 'B'\n",
    "            print(f'{tile} from {i} is now {self.nodes[i]}')\n",
    "        elif tile == 'G':\n",
    "            self.nodes[i] = 'S'\n",
    "            print(f'{tile} from {i} is now {self.nodes[i]}')\n",
    "        elif tile == 'S':\n",
    "            self.nodes[i] = 'B'\n",
    "            print(f'{tile} from {i} is now {self.nodes[i]}')\n",
    "    \n",
    "    def start_fire(self, s=0):\n",
    "        count = 0\n",
    "        while 'H' in self.nodes:\n",
    "            count += 1\n",
    "            print(f'{count} iteration:')\n",
    "            self.bfs(s)\n",
    "\n",
    "        print(f'\\n House caught fire after {count} iterations')\n",
    "\n",
    "    def bfs(self, s):\n",
    "        visited = [False for _ in range(self.N)]\n",
    "        q = []\n",
    "        q.append(s)\n",
    "        visited[s] = True\n",
    "        while len(q) > 0:\n",
    "            curr = q.pop(0)\n",
    "            for neigh in self.adj[curr]:\n",
    "                if self.nodes[neigh] == 'B': \n",
    "                        self.update_value(self.nodes[curr], curr)\n",
    "                if not visited[neigh]:\n",
    "                    visited[neigh] = True\n",
    "                    q.append(neigh)\n"
   ]
  },
  {
   "cell_type": "code",
   "execution_count": 140,
   "metadata": {},
   "outputs": [],
   "source": [
    "G = Graph(12)\n",
    "G.add_value(0, 'G')\n",
    "G.add_edge(0,1)\n",
    "\n",
    "G.add_value(1, 'W')\n",
    "G.add_edge(1,2)\n",
    "\n",
    "G.add_value(2, 'H')\n",
    "G.add_edge(2,3)\n",
    "\n",
    "G.add_value(3, 'G')\n",
    "G.add_edge(3,4)\n",
    "\n",
    "G.add_value(4, 'W')\n",
    "G.add_edge(0,4)\n",
    "G.add_edge(1,4)\n",
    "\n",
    "G.add_value(5, 'G')\n",
    "G.add_edge(4,5)\n",
    "G.add_edge(1,5)\n",
    "G.add_edge(2,5)\n",
    "\n",
    "G.add_value(6, 'W')\n",
    "G.add_edge(5,6)\n",
    "G.add_edge(2,6)\n",
    "G.add_edge(3,6)\n",
    "\n",
    "G.add_value(7, 'F')\n",
    "G.add_edge(6,7)\n",
    "G.add_edge(3,7)\n",
    "\n",
    "G.add_value(8, 'G')\n",
    "G.add_edge(4,8)\n",
    "\n",
    "G.add_value(9, 'G')\n",
    "G.add_edge(8,9)\n",
    "G.add_edge(4,9)\n",
    "G.add_edge(5,9)\n",
    "\n",
    "G.add_value(10, 'G')\n",
    "G.add_edge(9,10)\n",
    "G.add_edge(5,10)\n",
    "G.add_edge(6,10)\n",
    "\n",
    "G.add_value(11, 'B')\n",
    "G.add_edge(10,11)\n",
    "G.add_edge(7,11)\n",
    "G.add_edge(6,11)\n"
   ]
  },
  {
   "cell_type": "code",
   "execution_count": 141,
   "metadata": {},
   "outputs": [
    {
     "name": "stdout",
     "output_type": "stream",
     "text": [
      "1 iteration:\n",
      "G from 10 is now S\n",
      "F from 7 is now B\n",
      "2 iteration:\n",
      "G from 3 is now S\n",
      "S from 10 is now B\n",
      "3 iteration:\n",
      "G from 5 is now S\n",
      "S from 3 is now B\n",
      "G from 9 is now S\n",
      "4 iteration:\n",
      "H from 2 is now B\n",
      "S from 5 is now B\n",
      "S from 9 is now B\n",
      "\n",
      " House caught fire after 4 iterations\n"
     ]
    }
   ],
   "source": [
    "G.start_fire(0)"
   ]
  }
 ],
 "metadata": {
  "interpreter": {
   "hash": "ef166213a119dea7a0b1a64e774e94a94a893f8530fa4c669d6e23575311d886"
  },
  "kernelspec": {
   "display_name": "Python 3.9.7 ('base')",
   "language": "python",
   "name": "python3"
  },
  "language_info": {
   "codemirror_mode": {
    "name": "ipython",
    "version": 3
   },
   "file_extension": ".py",
   "mimetype": "text/x-python",
   "name": "python",
   "nbconvert_exporter": "python",
   "pygments_lexer": "ipython3",
   "version": "3.9.7"
  },
  "orig_nbformat": 4
 },
 "nbformat": 4,
 "nbformat_minor": 2
}
